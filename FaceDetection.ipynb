{
 "cells": [
  {
   "cell_type": "markdown",
   "id": "ecfedd1b-339a-404b-b581-4ec583711fe2",
   "metadata": {},
   "source": [
    "# Import bibliotek"
   ]
  },
  {
   "cell_type": "code",
   "execution_count": 2,
   "id": "0e45d852-f8b2-4ba8-9730-f56c49ad85f5",
   "metadata": {},
   "outputs": [
    {
     "name": "stderr",
     "output_type": "stream",
     "text": [
      "2025-03-09 20:44:30.233607: I external/local_xla/xla/tsl/cuda/cudart_stub.cc:32] Could not find cuda drivers on your machine, GPU will not be used.\n",
      "2025-03-09 20:44:30.238044: I external/local_xla/xla/tsl/cuda/cudart_stub.cc:32] Could not find cuda drivers on your machine, GPU will not be used.\n",
      "2025-03-09 20:44:30.245823: E external/local_xla/xla/stream_executor/cuda/cuda_fft.cc:477] Unable to register cuFFT factory: Attempting to register factory for plugin cuFFT when one has already been registered\n",
      "WARNING: All log messages before absl::InitializeLog() is called are written to STDERR\n",
      "E0000 00:00:1741553070.258900    4518 cuda_dnn.cc:8310] Unable to register cuDNN factory: Attempting to register factory for plugin cuDNN when one has already been registered\n",
      "E0000 00:00:1741553070.262615    4518 cuda_blas.cc:1418] Unable to register cuBLAS factory: Attempting to register factory for plugin cuBLAS when one has already been registered\n",
      "2025-03-09 20:44:30.277084: I tensorflow/core/platform/cpu_feature_guard.cc:210] This TensorFlow binary is optimized to use available CPU instructions in performance-critical operations.\n",
      "To enable the following instructions: AVX2 FMA, in other operations, rebuild TensorFlow with the appropriate compiler flags.\n"
     ]
    }
   ],
   "source": [
    "import tensorflow as tf\n",
    "from tensorflow.keras.preprocessing.image import ImageDataGenerator"
   ]
  },
  {
   "cell_type": "markdown",
   "id": "dd682207-2216-48de-8f73-640a543405ea",
   "metadata": {},
   "source": [
    "# Ładowanie danych testowych"
   ]
  },
  {
   "cell_type": "code",
   "execution_count": 3,
   "id": "bca58e2f-df6b-4c65-afc8-cc344e44a0b1",
   "metadata": {},
   "outputs": [],
   "source": [
    "data_dir = 'Data'"
   ]
  },
  {
   "cell_type": "markdown",
   "id": "45173fe8-3ab0-4423-bc2e-d4969120c026",
   "metadata": {},
   "source": [
    "# Utworzenie generatora z reskalowaniem i podziałem na trening i walidację (50% danych)"
   ]
  },
  {
   "cell_type": "code",
   "execution_count": 4,
   "id": "513bc1d6-a85a-44e2-a296-e9ab73fc5310",
   "metadata": {},
   "outputs": [],
   "source": [
    "datagen = ImageDataGenerator(\n",
    "    rescale=1./255,\n",
    "    validation_split=0.5\n",
    ")"
   ]
  },
  {
   "cell_type": "markdown",
   "id": "4ae19eaa-1e7c-4d09-ad63-ba5a8fe56b75",
   "metadata": {},
   "source": [
    "# Generator danych treningowych (50% danych)\n"
   ]
  },
  {
   "cell_type": "code",
   "execution_count": 5,
   "id": "17b65dee-2683-4e3f-81e7-aa312c1f0d40",
   "metadata": {},
   "outputs": [
    {
     "name": "stdout",
     "output_type": "stream",
     "text": [
      "Found 2771 images belonging to 3 classes.\n"
     ]
    }
   ],
   "source": [
    "train_generator = datagen.flow_from_directory(\n",
    "    data_dir,\n",
    "    target_size=(224, 224),\n",
    "    batch_size=32,\n",
    "    class_mode='binary',\n",
    "    subset='training'\n",
    ")"
   ]
  },
  {
   "cell_type": "code",
   "execution_count": null,
   "id": "985fd00c-9b4d-4ef0-9be6-414e3db41d37",
   "metadata": {},
   "outputs": [],
   "source": []
  }
 ],
 "metadata": {
  "kernelspec": {
   "display_name": "Python 3 (ipykernel)",
   "language": "python",
   "name": "python3"
  },
  "language_info": {
   "codemirror_mode": {
    "name": "ipython",
    "version": 3
   },
   "file_extension": ".py",
   "mimetype": "text/x-python",
   "name": "python",
   "nbconvert_exporter": "python",
   "pygments_lexer": "ipython3",
   "version": "3.11.6"
  }
 },
 "nbformat": 4,
 "nbformat_minor": 5
}
