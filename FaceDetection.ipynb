{
 "cells": [
  {
   "cell_type": "markdown",
   "id": "ecfedd1b-339a-404b-b581-4ec583711fe2",
   "metadata": {},
   "source": [
    "# Import bibliotek"
   ]
  },
  {
   "cell_type": "code",
   "execution_count": 1,
   "id": "0e45d852-f8b2-4ba8-9730-f56c49ad85f5",
   "metadata": {},
   "outputs": [],
   "source": [
    "import tensorflow as tf\n",
    "from tensorflow.keras.preprocessing.image import ImageDataGenerator\n",
    "from tensorflow.keras import layers, models"
   ]
  },
  {
   "cell_type": "markdown",
   "id": "dd682207-2216-48de-8f73-640a543405ea",
   "metadata": {},
   "source": [
    "# Ładowanie danych testowych"
   ]
  },
  {
   "cell_type": "code",
   "execution_count": 2,
   "id": "bca58e2f-df6b-4c65-afc8-cc344e44a0b1",
   "metadata": {},
   "outputs": [],
   "source": [
    "data_dir = 'Data'"
   ]
  },
  {
   "cell_type": "markdown",
   "id": "45173fe8-3ab0-4423-bc2e-d4969120c026",
   "metadata": {},
   "source": [
    "# Utworzenie generatora z reskalowaniem i podziałem na trening i walidację (50% danych)"
   ]
  },
  {
   "cell_type": "code",
   "execution_count": 3,
   "id": "513bc1d6-a85a-44e2-a296-e9ab73fc5310",
   "metadata": {},
   "outputs": [],
   "source": [
    "datagen = ImageDataGenerator(\n",
    "    rescale=1./255,\n",
    "    validation_split=0.5\n",
    ")"
   ]
  },
  {
   "cell_type": "markdown",
   "id": "4ae19eaa-1e7c-4d09-ad63-ba5a8fe56b75",
   "metadata": {},
   "source": [
    "# Generator danych treningowych (50% danych)\n"
   ]
  },
  {
   "cell_type": "code",
   "execution_count": 4,
   "id": "17b65dee-2683-4e3f-81e7-aa312c1f0d40",
   "metadata": {},
   "outputs": [
    {
     "name": "stdout",
     "output_type": "stream",
     "text": [
      "Found 3777 images belonging to 2 classes.\n"
     ]
    }
   ],
   "source": [
    "train_generator = datagen.flow_from_directory(\n",
    "    data_dir,\n",
    "    target_size=(224, 224),\n",
    "    batch_size=32,\n",
    "    class_mode='binary',\n",
    "    subset='training'\n",
    ")"
   ]
  },
  {
   "cell_type": "markdown",
   "id": "2fdb176d",
   "metadata": {},
   "source": [
    "# Walidacja danych"
   ]
  },
  {
   "cell_type": "code",
   "execution_count": 5,
   "id": "985fd00c-9b4d-4ef0-9be6-414e3db41d37",
   "metadata": {},
   "outputs": [
    {
     "name": "stdout",
     "output_type": "stream",
     "text": [
      "Found 3776 images belonging to 2 classes.\n"
     ]
    }
   ],
   "source": [
    "validation_generator = datagen.flow_from_directory(\n",
    "    data_dir,\n",
    "    target_size=(224, 224),\n",
    "    batch_size=32,\n",
    "    class_mode='binary',\n",
    "    subset='validation'\n",
    ")"
   ]
  },
  {
   "cell_type": "markdown",
   "id": "0bccca15",
   "metadata": {},
   "source": [
    "# Tworzenie modelu"
   ]
  },
  {
   "cell_type": "code",
   "execution_count": 6,
   "id": "bffe241a",
   "metadata": {},
   "outputs": [
    {
     "name": "stderr",
     "output_type": "stream",
     "text": [
      "C:\\Users\\szymz\\AppData\\Local\\Packages\\PythonSoftwareFoundation.Python.3.11_qbz5n2kfra8p0\\LocalCache\\local-packages\\Python311\\site-packages\\keras\\src\\layers\\convolutional\\base_conv.py:107: UserWarning: Do not pass an `input_shape`/`input_dim` argument to a layer. When using Sequential models, prefer using an `Input(shape)` object as the first layer in the model instead.\n",
      "  super().__init__(activity_regularizer=activity_regularizer, **kwargs)\n"
     ]
    }
   ],
   "source": [
    "model = models.Sequential([\n",
    "    layers.Conv2D(32, (3, 3), activation='relu', input_shape=(224, 224, 3)),\n",
    "    layers.MaxPooling2D(2, 2),\n",
    "    layers.Conv2D(64, (3, 3), activation='relu'),\n",
    "    layers.MaxPooling2D(2, 2),\n",
    "    layers.Conv2D(128, (3, 3), activation='relu'),\n",
    "    layers.MaxPooling2D(2, 2),\n",
    "    layers.Flatten(),\n",
    "    layers.Dense(128, activation='relu'),\n",
    "    layers.Dense(1, activation='sigmoid')\n",
    "])"
   ]
  },
  {
   "cell_type": "markdown",
   "id": "f2bc65f0",
   "metadata": {},
   "source": [
    "# Kompilacja modelu"
   ]
  },
  {
   "cell_type": "code",
   "execution_count": 7,
   "id": "edc59d31",
   "metadata": {},
   "outputs": [],
   "source": [
    "model.compile(\n",
    "    optimizer='adam',\n",
    "    loss='binary_crossentropy',\n",
    "    metrics=['accuracy']\n",
    ")"
   ]
  },
  {
   "cell_type": "markdown",
   "id": "9162424f",
   "metadata": {},
   "source": [
    "# Trenowanie modelu"
   ]
  },
  {
   "cell_type": "code",
   "execution_count": 8,
   "id": "23fd6f51",
   "metadata": {},
   "outputs": [
    {
     "name": "stderr",
     "output_type": "stream",
     "text": [
      "C:\\Users\\szymz\\AppData\\Local\\Packages\\PythonSoftwareFoundation.Python.3.11_qbz5n2kfra8p0\\LocalCache\\local-packages\\Python311\\site-packages\\keras\\src\\trainers\\data_adapters\\py_dataset_adapter.py:121: UserWarning: Your `PyDataset` class should call `super().__init__(**kwargs)` in its constructor. `**kwargs` can include `workers`, `use_multiprocessing`, `max_queue_size`. Do not pass these arguments to `fit()`, as they will be ignored.\n",
      "  self._warn_if_super_not_called()\n"
     ]
    },
    {
     "name": "stdout",
     "output_type": "stream",
     "text": [
      "Epoch 1/10\n",
      "\u001b[1m 44/119\u001b[0m \u001b[32m━━━━━━━\u001b[0m\u001b[37m━━━━━━━━━━━━━\u001b[0m \u001b[1m57s\u001b[0m 762ms/step - accuracy: 0.5934 - loss: 1.0484"
     ]
    },
    {
     "name": "stderr",
     "output_type": "stream",
     "text": [
      "C:\\Users\\szymz\\AppData\\Local\\Packages\\PythonSoftwareFoundation.Python.3.11_qbz5n2kfra8p0\\LocalCache\\local-packages\\Python311\\site-packages\\PIL\\Image.py:1045: UserWarning: Palette images with Transparency expressed in bytes should be converted to RGBA images\n",
      "  warnings.warn(\n"
     ]
    },
    {
     "name": "stdout",
     "output_type": "stream",
     "text": [
      "\u001b[1m119/119\u001b[0m \u001b[32m━━━━━━━━━━━━━━━━━━━━\u001b[0m\u001b[37m\u001b[0m \u001b[1m126s\u001b[0m 1s/step - accuracy: 0.7083 - loss: 0.7229 - val_accuracy: 0.8890 - val_loss: 0.2784\n",
      "Epoch 2/10\n",
      "\u001b[1m119/119\u001b[0m \u001b[32m━━━━━━━━━━━━━━━━━━━━\u001b[0m\u001b[37m\u001b[0m \u001b[1m97s\u001b[0m 813ms/step - accuracy: 0.9011 - loss: 0.2585 - val_accuracy: 0.8416 - val_loss: 0.3799\n",
      "Epoch 3/10\n",
      "\u001b[1m119/119\u001b[0m \u001b[32m━━━━━━━━━━━━━━━━━━━━\u001b[0m\u001b[37m\u001b[0m \u001b[1m96s\u001b[0m 805ms/step - accuracy: 0.9057 - loss: 0.2464 - val_accuracy: 0.8779 - val_loss: 0.3262\n",
      "Epoch 4/10\n",
      "\u001b[1m119/119\u001b[0m \u001b[32m━━━━━━━━━━━━━━━━━━━━\u001b[0m\u001b[37m\u001b[0m \u001b[1m96s\u001b[0m 810ms/step - accuracy: 0.9428 - loss: 0.1462 - val_accuracy: 0.8938 - val_loss: 0.3474\n",
      "Epoch 5/10\n",
      "\u001b[1m119/119\u001b[0m \u001b[32m━━━━━━━━━━━━━━━━━━━━\u001b[0m\u001b[37m\u001b[0m \u001b[1m102s\u001b[0m 858ms/step - accuracy: 0.9602 - loss: 0.1011 - val_accuracy: 0.8962 - val_loss: 0.3765\n",
      "Epoch 6/10\n",
      "\u001b[1m119/119\u001b[0m \u001b[32m━━━━━━━━━━━━━━━━━━━━\u001b[0m\u001b[37m\u001b[0m \u001b[1m104s\u001b[0m 873ms/step - accuracy: 0.9730 - loss: 0.0682 - val_accuracy: 0.9047 - val_loss: 0.3536\n",
      "Epoch 7/10\n",
      "\u001b[1m119/119\u001b[0m \u001b[32m━━━━━━━━━━━━━━━━━━━━\u001b[0m\u001b[37m\u001b[0m \u001b[1m103s\u001b[0m 870ms/step - accuracy: 0.9816 - loss: 0.0562 - val_accuracy: 0.8893 - val_loss: 0.4606\n",
      "Epoch 8/10\n",
      "\u001b[1m119/119\u001b[0m \u001b[32m━━━━━━━━━━━━━━━━━━━━\u001b[0m\u001b[37m\u001b[0m \u001b[1m104s\u001b[0m 873ms/step - accuracy: 0.9857 - loss: 0.0380 - val_accuracy: 0.8829 - val_loss: 0.5646\n",
      "Epoch 9/10\n",
      "\u001b[1m119/119\u001b[0m \u001b[32m━━━━━━━━━━━━━━━━━━━━\u001b[0m\u001b[37m\u001b[0m \u001b[1m104s\u001b[0m 875ms/step - accuracy: 0.9902 - loss: 0.0293 - val_accuracy: 0.8972 - val_loss: 0.5620\n",
      "Epoch 10/10\n",
      "\u001b[1m119/119\u001b[0m \u001b[32m━━━━━━━━━━━━━━━━━━━━\u001b[0m\u001b[37m\u001b[0m \u001b[1m105s\u001b[0m 881ms/step - accuracy: 0.9950 - loss: 0.0188 - val_accuracy: 0.9047 - val_loss: 0.5908\n"
     ]
    }
   ],
   "source": [
    "history = model.fit(\n",
    "    train_generator,\n",
    "    epochs=10,\n",
    "    validation_data=validation_generator\n",
    ")"
   ]
  },
  {
   "cell_type": "markdown",
   "id": "d7ba017a",
   "metadata": {},
   "source": [
    "# ewaluacja modelu"
   ]
  },
  {
   "cell_type": "code",
   "execution_count": 9,
   "id": "d45af0a3",
   "metadata": {},
   "outputs": [
    {
     "name": "stdout",
     "output_type": "stream",
     "text": [
      "\u001b[1m118/118\u001b[0m \u001b[32m━━━━━━━━━━━━━━━━━━━━\u001b[0m\u001b[37m\u001b[0m \u001b[1m18s\u001b[0m 150ms/step - accuracy: 0.9039 - loss: 0.5709\n",
      "Loss: 0.5907703042030334\n",
      "Accuracy: 0.9046609997749329\n"
     ]
    }
   ],
   "source": [
    "val_loss, val_accuracy = model.evaluate(validation_generator)\n",
    "print(f'Loss: {val_loss}')\n",
    "print(f'Accuracy: {val_accuracy}')"
   ]
  },
  {
   "cell_type": "markdown",
   "id": "11587002",
   "metadata": {},
   "source": [
    "# Wykorzystanie modelu"
   ]
  },
  {
   "cell_type": "code",
   "execution_count": 10,
   "id": "996a9da4",
   "metadata": {},
   "outputs": [],
   "source": [
    "from tensorflow.keras.preprocessing import image\n",
    "import numpy as np"
   ]
  },
  {
   "cell_type": "markdown",
   "id": "a0ddd6f8",
   "metadata": {},
   "source": [
    "# Załadowanie danych testowych"
   ]
  },
  {
   "cell_type": "code",
   "execution_count": 11,
   "id": "17f7dba9",
   "metadata": {},
   "outputs": [],
   "source": [
    "img_path = 'example.jpg' \n",
    "\n",
    "img = image.load_img(img_path, target_size=(224, 224))\n",
    "\n",
    "img_array = image.img_to_array(img)\n",
    "\n",
    "img_array = np.expand_dims(img_array, axis=0)\n",
    "\n",
    "img_array /= 255.0"
   ]
  },
  {
   "cell_type": "markdown",
   "id": "7c3b4f2d",
   "metadata": {},
   "source": [
    "# Przewidywanie"
   ]
  },
  {
   "cell_type": "code",
   "execution_count": 12,
   "id": "36928ac7",
   "metadata": {},
   "outputs": [
    {
     "name": "stdout",
     "output_type": "stream",
     "text": [
      "\u001b[1m1/1\u001b[0m \u001b[32m━━━━━━━━━━━━━━━━━━━━\u001b[0m\u001b[37m\u001b[0m \u001b[1m0s\u001b[0m 73ms/step\n",
      "Osoba na zdjęciu ma maskę.\n"
     ]
    }
   ],
   "source": [
    "prediction = model.predict(img_array)\n",
    "\n",
    "if prediction[0] > 0.5:\n",
    "    print(\"Osoba na zdjęciu nie ma maski.\")\n",
    "else:\n",
    "    print(\"Osoba na zdjęciu ma maskę.\")"
   ]
  }
 ],
 "metadata": {
  "kernelspec": {
   "display_name": "Python 3",
   "language": "python",
   "name": "python3"
  },
  "language_info": {
   "codemirror_mode": {
    "name": "ipython",
    "version": 3
   },
   "file_extension": ".py",
   "mimetype": "text/x-python",
   "name": "python",
   "nbconvert_exporter": "python",
   "pygments_lexer": "ipython3",
   "version": "3.11.9"
  }
 },
 "nbformat": 4,
 "nbformat_minor": 5
}
